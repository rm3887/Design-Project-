{
 "cells": [
  {
   "cell_type": "markdown",
   "metadata": {},
   "source": [
    "# Design Project -- Circuit Component Classification"
   ]
  },
  {
   "cell_type": "markdown",
   "metadata": {},
   "source": [
    "Ray Mohabir\n",
    "<br>\n",
    "Professor Campisi\n",
    "<br>\n",
    "Date: 5/16/2018"
   ]
  },
  {
   "cell_type": "markdown",
   "metadata": {},
   "source": [
    "# Problem"
   ]
  },
  {
   "cell_type": "markdown",
   "metadata": {},
   "source": [
    "Using image recognition, is it possible to identify different circuit components correctly?\n",
    "<br>\n",
    "What I want to accomplish:\n",
    "    1. Gather a large enough sample size for training and testing\n",
    "    2. Construct a neural network architecture\n",
    "    3. Run the samples through the neural network\n",
    "    4. Develop a bounding box on every image for location purposes"
   ]
  },
  {
   "cell_type": "markdown",
   "metadata": {},
   "source": [
    "# Credits to:"
   ]
  },
  {
   "cell_type": "markdown",
   "metadata": {},
   "source": [
    "Nnamdi P Nwaokorie -- [Allowing me to use his samples after dreading to draw them](https://github.com/npn225/Intro-to-Machine-Learning-Circuit-Component-Identification-Project/tree/master/Electronics/Img)"
   ]
  },
  {
   "cell_type": "markdown",
   "metadata": {},
   "source": [
    "# Initializer"
   ]
  },
  {
   "cell_type": "code",
   "execution_count": 1,
   "metadata": {},
   "outputs": [],
   "source": [
    "from PIL import Image\n",
    "import numpy as np\n",
    "import pandas as pd\n",
    "import skimage.io\n",
    "import matplotlib.pyplot as plt\n",
    "%matplotlib inline\n",
    "import os\n",
    "from skimage.filters import threshold_otsu\n",
    "from skimage.segmentation import clear_border\n",
    "from skimage.measure import label, regionprops\n",
    "from skimage.morphology import closing, square\n",
    "from skimage.color import label2rgb\n",
    "from skimage.transform import resize"
   ]
  },
  {
   "cell_type": "code",
   "execution_count": 14,
   "metadata": {},
   "outputs": [],
   "source": [
    "# We have the following mapping: {Dependent_Voltage_Source : Sample001, Independent_Voltage_Source : Sample002,\n",
    "#                                 Dependent_Current_Source : Sample003, Independent_Current_Source : Sample004, \n",
    "#                                 Resistor : Sample005}\n",
    "\n",
    "file_names = [\"Sample001\",\"Sample002\",\"Sample003\",\"Sample004\",\"Sample005\"]\n",
    "encoded_arr = [np.array([0,0,0,0,1]),np.array([0,0,0,1,0]),np.array([0,0,1,0,0]),np.array([0,1,0,0,0])\n",
    "              ,np.array([1,0,0,0,0])] # one hot encoding\n",
    "num_classes = len(file_names)"
   ]
  },
  {
   "cell_type": "markdown",
   "metadata": {},
   "source": [
    "# Resizing and Converting Images"
   ]
  },
  {
   "cell_type": "markdown",
   "metadata": {},
   "source": [
    "Need to resize all of the images to the same size so we can work with it later on. I decided to resize it to (100,100) instead of MNIST standard (28,28) because I want to keep the quality of the pictures so that when we run a CNN, we can grab the features better. However, the larger the image size, the slower the CNN will be. So we are trading performance speed with accuracy.\n",
    "\n",
    "We are also going to convert the images into a numpy array so that we can use neural networks later on."
   ]
  },
  {
   "cell_type": "code",
   "execution_count": 4,
   "metadata": {},
   "outputs": [],
   "source": [
    "def resizeAndConvertImages(path_name):\n",
    "    # Resize images to (100,100) and convert the images to a numpy array to work with later on.\n",
    "    \n",
    "    # Get a list of  the files and create new files if they do not already exist\n",
    "    paths = os.listdir(path_name)\n",
    "    new_path = path_name+\"_scaled\"\n",
    "    if (os.path.exists(new_path)== False):\n",
    "        os.mkdir(new_path) \n",
    "    \n",
    "    # Iterate through the folders and resize all of images in each folder to (100,100)\n",
    "    # then append it to a tmp_arr as a numpy array with dtype = int\n",
    "    tmp_arr = []\n",
    "    for files in paths:\n",
    "        if os.path.isfile(path_name+'/'+files):\n",
    "            image = Image.open(path_name+'/'+ files)\n",
    "            image = image.resize((100,100),Image.ANTIALIAS)\n",
    "            final_path = new_path+'/'+files+'_scaled'\n",
    "            image.save(final_path+'.JPG',optimize=True,quality=95)\n",
    "            tmp_arr.append(np.asarray(image,dtype=int))\n",
    "        else:\n",
    "            print(\"error resizing: \"+new_path)\n",
    "       \n",
    "    return tmp_arr"
   ]
  },
  {
   "cell_type": "code",
   "execution_count": 5,
   "metadata": {},
   "outputs": [],
   "source": [
    "image_arr = []\n",
    "for files in file_names:\n",
    "    image_arr.append(resizeAndConvertImages(files))"
   ]
  },
  {
   "cell_type": "code",
   "execution_count": 15,
   "metadata": {},
   "outputs": [
    {
     "name": "stdout",
     "output_type": "stream",
     "text": [
      "(8000, 100, 100, 3)\n"
     ]
    }
   ],
   "source": [
    "total_num_images = len(image_arr[0])*len(file_names)\n",
    "x = np.zeros((total_num_images,100,100,3))\n",
    "y = np.zeros((total_num_images,num_classes))\n",
    "print(x.shape)"
   ]
  },
  {
   "cell_type": "markdown",
   "metadata": {},
   "source": [
    "Since the image_arr is already sorted based on samples, we will use the encoded array to map the true values to y"
   ]
  },
  {
   "cell_type": "code",
   "execution_count": 16,
   "metadata": {},
   "outputs": [
    {
     "name": "stdout",
     "output_type": "stream",
     "text": [
      "[[0. 0. 0. 0. 1.]\n",
      " [0. 0. 0. 0. 1.]\n",
      " [0. 0. 0. 0. 1.]\n",
      " ...\n",
      " [1. 0. 0. 0. 0.]\n",
      " [1. 0. 0. 0. 0.]\n",
      " [1. 0. 0. 0. 0.]]\n"
     ]
    }
   ],
   "source": [
    "counter = 0\n",
    "for files in range(len(file_names)):\n",
    "    for image in range(len(image_arr[files])):\n",
    "        x[counter, :, :, :] = image_arr[files][image]\n",
    "        y[counter, :] = encoded_arr[files]\n",
    "        counter += 1\n",
    "print(y)"
   ]
  },
  {
   "cell_type": "markdown",
   "metadata": {},
   "source": [
    "Now we need to split our data into training data and testing data. We are going to do the 70/30 model, where we test on 70% of the dataset and test on 30%. Due to how we inputted our data, we need to shuffle it around so that the neural network doesn't memorize the data."
   ]
  },
  {
   "cell_type": "code",
   "execution_count": 18,
   "metadata": {},
   "outputs": [],
   "source": [
    "from sklearn.model_selection import train_test_split\n",
    "\n",
    "x_tr,x_tst,y_tr,y_tst = train_test_split(x,y,test_size=0.3,random_state=42,shuffle=True)"
   ]
  },
  {
   "cell_type": "code",
   "execution_count": 23,
   "metadata": {},
   "outputs": [
    {
     "name": "stdout",
     "output_type": "stream",
     "text": [
      "[[[165. 137. 113.]\n",
      "  [165. 137. 113.]\n",
      "  [165. 137. 113.]\n",
      "  ...\n",
      "  [169. 143. 120.]\n",
      "  [169. 143. 120.]\n",
      "  [169. 143. 120.]]\n",
      "\n",
      " [[163. 135. 111.]\n",
      "  [163. 135. 111.]\n",
      "  [164. 136. 112.]\n",
      "  ...\n",
      "  [169. 143. 120.]\n",
      "  [169. 143. 120.]\n",
      "  [169. 143. 120.]]\n",
      "\n",
      " [[163. 135. 111.]\n",
      "  [163. 135. 111.]\n",
      "  [163. 135. 111.]\n",
      "  ...\n",
      "  [169. 143. 120.]\n",
      "  [169. 143. 120.]\n",
      "  [169. 143. 120.]]\n",
      "\n",
      " ...\n",
      "\n",
      " [[165. 137. 113.]\n",
      "  [165. 137. 113.]\n",
      "  [164. 136. 112.]\n",
      "  ...\n",
      "  [169. 142. 121.]\n",
      "  [169. 142. 121.]\n",
      "  [169. 142. 121.]]\n",
      "\n",
      " [[163. 135. 111.]\n",
      "  [163. 135. 111.]\n",
      "  [164. 136. 112.]\n",
      "  ...\n",
      "  [170. 143. 122.]\n",
      "  [170. 143. 122.]\n",
      "  [170. 143. 122.]]\n",
      "\n",
      " [[165. 137. 113.]\n",
      "  [165. 137. 113.]\n",
      "  [165. 137. 113.]\n",
      "  ...\n",
      "  [171. 144. 123.]\n",
      "  [171. 144. 123.]\n",
      "  [171. 144. 123.]]]\n",
      "[1. 0. 0. 0. 0.]\n"
     ]
    }
   ],
   "source": [
    "print(x_tr[0])\n",
    "print(y_tr[0])"
   ]
  },
  {
   "cell_type": "markdown",
   "metadata": {},
   "source": [
    "On the cell above, for the first training image, we are expecting it to be a resistor"
   ]
  },
  {
   "cell_type": "markdown",
   "metadata": {},
   "source": [
    "# Neural Network Training"
   ]
  },
  {
   "cell_type": "code",
   "execution_count": 72,
   "metadata": {},
   "outputs": [],
   "source": [
    "import keras\n",
    "from keras import Model, Sequential\n",
    "from keras.layers import Conv2D, MaxPooling2D, Dense, Flatten, BatchNormalization\n",
    "import keras.backend as k"
   ]
  },
  {
   "cell_type": "code",
   "execution_count": 73,
   "metadata": {},
   "outputs": [],
   "source": [
    "k.clear_session()"
   ]
  },
  {
   "cell_type": "markdown",
   "metadata": {},
   "source": [
    "We are going to use the ReLU activation function because it is the most popular at the moment and we are able to train the network much faster. Due to the number of layers we will have, this is very important.\n",
    "\n",
    "Conv2D is typically used for this type of training. Conv2D is spatial convolution over 2D images.\n",
    "\n",
    "We use batch normalization so that every input gets normalized (speeds up runtime), reduces overfitting, and makes sure the activation doesn't get crazy small or crazy large.\n",
    "\n",
    "Max Pooling reduces the size of shape. In our case, we will keep on halving the size."
   ]
  },
  {
   "cell_type": "code",
   "execution_count": 74,
   "metadata": {},
   "outputs": [],
   "source": [
    "from sklearn.metrics import jaccard_similarity_score\n",
    "\n",
    "# used to keep track of Intersect Over Union (IoU). This will be used later for bounding boxes\n",
    "def k_iou(y_true,y_pred):\n",
    "    tmp1 = k.flatten(y_true)\n",
    "    tmp2 = k.flatten(y_pred)\n",
    "    iou = jaccard_similarity_score(tmp1, tmp2)\n",
    "    return k.variable(iou, dtype = float, name = 'iou')"
   ]
  },
  {
   "cell_type": "code",
   "execution_count": 75,
   "metadata": {},
   "outputs": [],
   "source": [
    "din = x_tr[0].shape\n",
    "\n",
    "model = Sequential()\n",
    "model.add(Conv2D(32, input_shape=din, activation='relu', kernel_size=(3,3)))\n",
    "model.add(BatchNormalization())\n",
    "model.add(MaxPooling2D(pool_size=(2,2)))\n",
    "model.add(Conv2D(64, activation='relu', kernel_size=(3,3)))\n",
    "model.add(BatchNormalization())\n",
    "model.add(MaxPooling2D(pool_size=(2,2)))\n",
    "model.add(Conv2D(64, activation='relu', kernel_size=(3,3)))\n",
    "model.add(BatchNormalization())\n",
    "model.add(Conv2D(64, activation='relu', kernel_size=(3,3)))\n",
    "model.add(BatchNormalization())\n",
    "model.add(MaxPooling2D(pool_size=(2,2)))\n",
    "model.add(Conv2D(64, activation='relu', kernel_size=(3,3)))\n",
    "model.add(BatchNormalization())\n",
    "model.add(MaxPooling2D(pool_size=(2,2)))\n",
    "model.add(Flatten())\n",
    "model.add(Dense(2048, activation='relu'))\n",
    "model.add(BatchNormalization())\n",
    "model.add(Dense(1024, activation='relu'))\n",
    "model.add(BatchNormalization())\n",
    "model.add(Dense(512, activation='relu'))\n",
    "model.add(BatchNormalization())\n",
    "model.add(Dense(256, activation='relu'))\n",
    "model.add(BatchNormalization())\n",
    "model.add(Dense(num_classes, activation='softmax', name = 'output'))"
   ]
  },
  {
   "cell_type": "code",
   "execution_count": 76,
   "metadata": {},
   "outputs": [
    {
     "name": "stdout",
     "output_type": "stream",
     "text": [
      "_________________________________________________________________\n",
      "Layer (type)                 Output Shape              Param #   \n",
      "=================================================================\n",
      "conv2d_1 (Conv2D)            (None, 98, 98, 32)        896       \n",
      "_________________________________________________________________\n",
      "batch_normalization_1 (Batch (None, 98, 98, 32)        128       \n",
      "_________________________________________________________________\n",
      "max_pooling2d_1 (MaxPooling2 (None, 49, 49, 32)        0         \n",
      "_________________________________________________________________\n",
      "conv2d_2 (Conv2D)            (None, 47, 47, 64)        18496     \n",
      "_________________________________________________________________\n",
      "batch_normalization_2 (Batch (None, 47, 47, 64)        256       \n",
      "_________________________________________________________________\n",
      "max_pooling2d_2 (MaxPooling2 (None, 23, 23, 64)        0         \n",
      "_________________________________________________________________\n",
      "conv2d_3 (Conv2D)            (None, 21, 21, 64)        36928     \n",
      "_________________________________________________________________\n",
      "batch_normalization_3 (Batch (None, 21, 21, 64)        256       \n",
      "_________________________________________________________________\n",
      "conv2d_4 (Conv2D)            (None, 19, 19, 64)        36928     \n",
      "_________________________________________________________________\n",
      "batch_normalization_4 (Batch (None, 19, 19, 64)        256       \n",
      "_________________________________________________________________\n",
      "max_pooling2d_3 (MaxPooling2 (None, 9, 9, 64)          0         \n",
      "_________________________________________________________________\n",
      "conv2d_5 (Conv2D)            (None, 7, 7, 64)          36928     \n",
      "_________________________________________________________________\n",
      "batch_normalization_5 (Batch (None, 7, 7, 64)          256       \n",
      "_________________________________________________________________\n",
      "max_pooling2d_4 (MaxPooling2 (None, 3, 3, 64)          0         \n",
      "_________________________________________________________________\n",
      "flatten_1 (Flatten)          (None, 576)               0         \n",
      "_________________________________________________________________\n",
      "dense_1 (Dense)              (None, 2048)              1181696   \n",
      "_________________________________________________________________\n",
      "batch_normalization_6 (Batch (None, 2048)              8192      \n",
      "_________________________________________________________________\n",
      "dense_2 (Dense)              (None, 1024)              2098176   \n",
      "_________________________________________________________________\n",
      "batch_normalization_7 (Batch (None, 1024)              4096      \n",
      "_________________________________________________________________\n",
      "dense_3 (Dense)              (None, 512)               524800    \n",
      "_________________________________________________________________\n",
      "batch_normalization_8 (Batch (None, 512)               2048      \n",
      "_________________________________________________________________\n",
      "dense_4 (Dense)              (None, 256)               131328    \n",
      "_________________________________________________________________\n",
      "batch_normalization_9 (Batch (None, 256)               1024      \n",
      "_________________________________________________________________\n",
      "output (Dense)               (None, 5)                 1285      \n",
      "=================================================================\n",
      "Total params: 4,083,973\n",
      "Trainable params: 4,075,717\n",
      "Non-trainable params: 8,256\n",
      "_________________________________________________________________\n"
     ]
    }
   ],
   "source": [
    "model.summary()"
   ]
  },
  {
   "cell_type": "markdown",
   "metadata": {},
   "source": [
    "We want to keep track of the accuracy and the loss per epoch."
   ]
  },
  {
   "cell_type": "code",
   "execution_count": 77,
   "metadata": {},
   "outputs": [],
   "source": [
    "class LossHistory(keras.callbacks.Callback):\n",
    "    def on_train_begin(self, logs={}):\n",
    "        # TODO:  Create two empty lists, self.loss and self.val_acc\n",
    "        self.val_loss = []\n",
    "        self.val_acc = []\n",
    "        self.acc = []\n",
    " \n",
    "    def on_batch_end(self, batch, logs={}):\n",
    "        # TODO:  This is called at the end of each batch.  \n",
    "        # Add the loss in logs.get('loss') to the loss list\n",
    "        self.val_loss.append(logs.get('loss'))\n",
    "        \n",
    "    def on_epoch_end(self, epoch, logs):\n",
    "        # TODO:  This is called at the end of each epoch.  \n",
    "        # Add the test accuracy in logs.get('val_acc') to the val_acc list\n",
    "        self.val_acc.append(logs.get('val_acc'))\n",
    "        self.acc.append(logs.get('acc'))\n",
    "        \n",
    "# Create an instance of the history callback\n",
    "history_cb = LossHistory()"
   ]
  },
  {
   "cell_type": "code",
   "execution_count": 78,
   "metadata": {},
   "outputs": [],
   "source": [
    "from keras import optimizers\n",
    "opt = optimizers.Adadelta(lr=0.01) # leaving remaining parameters as default\n",
    "# model.compile(optimizer=opt,loss=\"categorical_crossentropy\",metrics=[\"accuracy\",\"mse\",k_iou])\n",
    "model.compile(optimizer=opt,loss=\"categorical_crossentropy\",metrics=[\"accuracy\",\"mse\"])"
   ]
  },
  {
   "cell_type": "code",
   "execution_count": 79,
   "metadata": {},
   "outputs": [
    {
     "name": "stdout",
     "output_type": "stream",
     "text": [
      "Train on 5600 samples, validate on 2400 samples\n",
      "Epoch 1/20\n",
      "5600/5600 [==============================] - 335s 60ms/step - loss: 1.6742 - acc: 0.3511 - mean_squared_error: 0.1623 - val_loss: 1.2265 - val_acc: 0.5179 - val_mean_squared_error: 0.1241\n",
      "Epoch 2/20\n",
      "5600/5600 [==============================] - 329s 59ms/step - loss: 0.9957 - acc: 0.6136 - mean_squared_error: 0.1029 - val_loss: 0.9086 - val_acc: 0.6525 - val_mean_squared_error: 0.0934\n",
      "Epoch 3/20\n",
      "5600/5600 [==============================] - 325s 58ms/step - loss: 0.7054 - acc: 0.7425 - mean_squared_error: 0.0725 - val_loss: 0.7461 - val_acc: 0.7250 - val_mean_squared_error: 0.0767\n",
      "Epoch 4/20\n",
      "5600/5600 [==============================] - 329s 59ms/step - loss: 0.5411 - acc: 0.8184 - mean_squared_error: 0.0549 - val_loss: 0.6420 - val_acc: 0.7675 - val_mean_squared_error: 0.0662\n",
      "Epoch 5/20\n",
      "5600/5600 [==============================] - 326s 58ms/step - loss: 0.4337 - acc: 0.8605 - mean_squared_error: 0.0435 - val_loss: 0.5501 - val_acc: 0.8008 - val_mean_squared_error: 0.0570\n",
      "Epoch 6/20\n",
      "5600/5600 [==============================] - 325s 58ms/step - loss: 0.3389 - acc: 0.9011 - mean_squared_error: 0.0332 - val_loss: 0.4976 - val_acc: 0.8292 - val_mean_squared_error: 0.0512\n",
      "Epoch 7/20\n",
      "5600/5600 [==============================] - 328s 59ms/step - loss: 0.2753 - acc: 0.9263 - mean_squared_error: 0.0261 - val_loss: 0.4428 - val_acc: 0.8404 - val_mean_squared_error: 0.0458\n",
      "Epoch 8/20\n",
      "5600/5600 [==============================] - 332s 59ms/step - loss: 0.2177 - acc: 0.9475 - mean_squared_error: 0.0198 - val_loss: 0.4028 - val_acc: 0.8592 - val_mean_squared_error: 0.0416\n",
      "Epoch 9/20\n",
      "5600/5600 [==============================] - 325s 58ms/step - loss: 0.1787 - acc: 0.9630 - mean_squared_error: 0.0156 - val_loss: 0.3670 - val_acc: 0.8746 - val_mean_squared_error: 0.0378\n",
      "Epoch 10/20\n",
      "5600/5600 [==============================] - 326s 58ms/step - loss: 0.1474 - acc: 0.9723 - mean_squared_error: 0.0122 - val_loss: 0.3420 - val_acc: 0.8842 - val_mean_squared_error: 0.0350\n",
      "Epoch 11/20\n",
      "5600/5600 [==============================] - 328s 59ms/step - loss: 0.1198 - acc: 0.9814 - mean_squared_error: 0.0093 - val_loss: 0.3173 - val_acc: 0.8892 - val_mean_squared_error: 0.0327\n",
      "Epoch 12/20\n",
      "5600/5600 [==============================] - 330s 59ms/step - loss: 0.0991 - acc: 0.9868 - mean_squared_error: 0.0072 - val_loss: 0.3032 - val_acc: 0.8946 - val_mean_squared_error: 0.0312\n",
      "Epoch 13/20\n",
      "5600/5600 [==============================] - 327s 58ms/step - loss: 0.0833 - acc: 0.9913 - mean_squared_error: 0.0056 - val_loss: 0.2840 - val_acc: 0.9013 - val_mean_squared_error: 0.0294\n",
      "Epoch 14/20\n",
      "5600/5600 [==============================] - 329s 59ms/step - loss: 0.0662 - acc: 0.9939 - mean_squared_error: 0.0040 - val_loss: 0.2660 - val_acc: 0.9050 - val_mean_squared_error: 0.0276\n",
      "Epoch 15/20\n",
      "5600/5600 [==============================] - 331s 59ms/step - loss: 0.0563 - acc: 0.9963 - mean_squared_error: 0.0031 - val_loss: 0.2591 - val_acc: 0.9067 - val_mean_squared_error: 0.0269\n",
      "Epoch 16/20\n",
      "5600/5600 [==============================] - 329s 59ms/step - loss: 0.0458 - acc: 0.9980 - mean_squared_error: 0.0022 - val_loss: 0.2450 - val_acc: 0.9133 - val_mean_squared_error: 0.0256\n",
      "Epoch 17/20\n",
      "5600/5600 [==============================] - 326s 58ms/step - loss: 0.0409 - acc: 0.9975 - mean_squared_error: 0.0019 - val_loss: 0.2409 - val_acc: 0.9142 - val_mean_squared_error: 0.0254\n",
      "Epoch 18/20\n",
      "5600/5600 [==============================] - 332s 59ms/step - loss: 0.0371 - acc: 0.9979 - mean_squared_error: 0.0017 - val_loss: 0.2312 - val_acc: 0.9142 - val_mean_squared_error: 0.0244\n",
      "Epoch 19/20\n",
      "5600/5600 [==============================] - 329s 59ms/step - loss: 0.0314 - acc: 0.9995 - mean_squared_error: 0.0012 - val_loss: 0.2245 - val_acc: 0.9171 - val_mean_squared_error: 0.0239\n",
      "Epoch 20/20\n",
      "5600/5600 [==============================] - 332s 59ms/step - loss: 0.0263 - acc: 0.9993 - mean_squared_error: 9.9439e-04 - val_loss: 0.2131 - val_acc: 0.9217 - val_mean_squared_error: 0.0227\n"
     ]
    },
    {
     "data": {
      "text/plain": [
       "<keras.callbacks.History at 0x17e6d0d2828>"
      ]
     },
     "execution_count": 79,
     "metadata": {},
     "output_type": "execute_result"
    }
   ],
   "source": [
    "model.fit(x_tr,y_tr, epochs=20, batch_size=100, validation_data=(x_tst, y_tst), callbacks=[history_cb])"
   ]
  },
  {
   "cell_type": "markdown",
   "metadata": {},
   "source": [
    "We are going to save the model so we can use it again if we want to at a later time"
   ]
  },
  {
   "cell_type": "code",
   "execution_count": 80,
   "metadata": {},
   "outputs": [],
   "source": [
    "model.save(\"cnn_electronic_components_dp2_v5.h5\")"
   ]
  },
  {
   "cell_type": "code",
   "execution_count": 82,
   "metadata": {},
   "outputs": [
    {
     "name": "stdout",
     "output_type": "stream",
     "text": [
      "20\n",
      "1120\n",
      "56.0\n"
     ]
    }
   ],
   "source": [
    "epochs = np.arange(1,21)\n",
    "print(len(history_cb.val_acc))\n",
    "print(len(history_cb.val_loss))\n",
    "print(len(history_cb.val_loss)/20)"
   ]
  },
  {
   "cell_type": "code",
   "execution_count": 83,
   "metadata": {},
   "outputs": [],
   "source": [
    "loss_tmp = []\n",
    "for i in range(len(epochs)):\n",
    "    loss_tmp.append(history_cb.val_loss[i*56])"
   ]
  },
  {
   "cell_type": "code",
   "execution_count": 84,
   "metadata": {},
   "outputs": [
    {
     "data": {
      "image/png": "[encoded data removed]",
      "text/plain": [
       "<matplotlib.figure.Figure at 0x17d3c83c9b0>"
      ]
     },
     "metadata": {},
     "output_type": "display_data"
    }
   ],
   "source": [
    "plt.subplot(1,2,1)\n",
    "plt.title(\"Validation Loss\")\n",
    "plt.plot(epochs,loss_tmp)\n",
    "plt.grid()\n",
    "plt.xlabel(\"Epochs\")\n",
    "plt.ylabel(\"Val Loss\")\n",
    "plt.subplot(1,2,2)\n",
    "plt.title(\"Validation Accuracy\")\n",
    "plt.plot(epochs,history_cb.val_acc)\n",
    "plt.xlabel(\"Epochs\")\n",
    "plt.ylabel(\"Val Acc\")\n",
    "plt.grid()\n",
    "plt.tight_layout()\n",
    "plt.show()"
   ]
  },
  {
   "cell_type": "code",
   "execution_count": 89,
   "metadata": {},
   "outputs": [
    {
     "data": {
      "image/png": "[encoded data removed]",
      "text/plain": [
       "<matplotlib.figure.Figure at 0x17d3e3a0fd0>"
      ]
     },
     "metadata": {},
     "output_type": "display_data"
    }
   ],
   "source": [
    "plt.plot(epochs,history_cb.acc,epochs,history_cb.val_acc)\n",
    "plt.xlabel(\"Epochs\")\n",
    "plt.ylabel(\"Accuracy\")\n",
    "plt.legend([\"Training\",\"Testing\"])\n",
    "plt.grid()\n",
    "plt.show()"
   ]
  },
  {
   "cell_type": "markdown",
   "metadata": {},
   "source": [
    "# Conclusion"
   ]
  },
  {
   "cell_type": "markdown",
   "metadata": {},
   "source": [
    "Unfortunately, I was not able to figure out the bounding box issue.\n",
    "\n",
    "Using a complex Convolutional Neural Network (CNN), we are able to get a validation accuracy of about 92%. If the neural network was ran at a higher number of epochs, the validation accuracy will improve, but there might be overfitting occuring.\n",
    "\n",
    "Based on the graph above, we can see that the training accuracy converges to 100%, while the testing accuracy coverges to 93%. \n",
    "\n",
    "Improvements can be made to the neural network architecture and the parameters can be altered slightly. However, with how high both accuracies are, it is not necessary to do it. Additionally, I am planning on adding a bounding box neural network seperately or attach it to the pre-existing network so that we can have a definitive locations of components when looking into images with multiple classes."
   ]
  },
  {
   "cell_type": "code",
   "execution_count": null,
   "metadata": {},
   "outputs": [],
   "source": []
  }
 ],
 "metadata": {
  "kernelspec": {
   "display_name": "Python 3",
   "language": "python",
   "name": "python3"
  },
  "language_info": {
   "codemirror_mode": {
    "name": "ipython",
    "version": 3
   },
   "file_extension": ".py",
   "mimetype": "text/x-python",
   "name": "python",
   "nbconvert_exporter": "python",
   "pygments_lexer": "ipython3",
   "version": "3.6.4"
  }
 },
 "nbformat": 4,
 "nbformat_minor": 2
}
